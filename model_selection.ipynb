{
 "cells": [
  {
   "cell_type": "markdown",
   "id": "8464af79-e812-458f-bb31-dcd1beb5b10b",
   "metadata": {},
   "source": [
    "# Exercise 1: K-Fold"
   ]
  },
  {
   "cell_type": "code",
   "execution_count": 3,
   "id": "cac46179-3cf2-42a2-93c2-9c8715de4045",
   "metadata": {},
   "outputs": [
    {
     "name": "stdout",
     "output_type": "stream",
     "text": [
      "Fold: 1\n",
      "TRAIN: [2 3 4 5 6 7 8 9] TEST: [0 1] \n",
      "\n",
      "Fold: 2\n",
      "TRAIN: [0 1 4 5 6 7 8 9] TEST: [2 3] \n",
      "\n",
      "Fold: 3\n",
      "TRAIN: [0 1 2 3 6 7 8 9] TEST: [4 5] \n",
      "\n",
      "Fold: 4\n",
      "TRAIN: [0 1 2 3 4 5 8 9] TEST: [6 7] \n",
      "\n",
      "Fold: 5\n",
      "TRAIN: [0 1 2 3 4 5 6 7] TEST: [8 9] \n",
      "\n"
     ]
    }
   ],
   "source": [
    "import numpy as np\n",
    "from sklearn.model_selection import KFold\n",
    "\n",
    "X = np.array(np.arange(1,21).reshape(10,-1))\n",
    "y = np.array(np.arange(1,11))\n",
    "\n",
    "kf = KFold(n_splits=5, shuffle=False)\n",
    "counter=1\n",
    "for train_index, test_index in kf.split(X):\n",
    "    print(f'Fold: {counter}')\n",
    "    print(\"TRAIN:\", train_index, \"TEST:\", test_index, \"\\n\")\n",
    "    counter+=1"
   ]
  },
  {
   "cell_type": "markdown",
   "id": "efcc21b5-af1e-4e85-a4a2-7394444025b5",
   "metadata": {},
   "source": [
    "# Exercise 2: Cross validation (k-fold)"
   ]
  },
  {
   "cell_type": "code",
   "execution_count": 11,
   "id": "1d457c40-3f01-4831-b66b-84f376367135",
   "metadata": {},
   "outputs": [
    {
     "name": "stdout",
     "output_type": "stream",
     "text": [
      "\n",
      "Scores on validation sets : [0.62433594 0.61648956 0.62486602 0.59891024 0.59284295 0.61307055\n",
      " 0.54630341 0.60742976 0.60014575 0.59574508]\n",
      "\n",
      "Mean of scores on validation sets : 0.6020139252674299\n",
      "\n",
      "Standard deviation of scores on validation sets : 0.02149838227734664\n"
     ]
    }
   ],
   "source": [
    "#Exercise 2\n",
    "# imports\n",
    "from sklearn.datasets import fetch_california_housing\n",
    "from sklearn.model_selection import train_test_split\n",
    "from sklearn.linear_model import LinearRegression\n",
    "from sklearn.preprocessing import StandardScaler\n",
    "from sklearn.impute import SimpleImputer\n",
    "from sklearn.pipeline import Pipeline\n",
    "import numpy as np\n",
    "from sklearn.model_selection import cross_validate\n",
    "# data\n",
    "housing = fetch_california_housing()\n",
    "X, y = housing['data'], housing['target']\n",
    "# split data train test\n",
    "X_train, X_test, y_train, y_test = train_test_split(X,\n",
    "                                                    y,\n",
    "                                                    test_size=0.1,\n",
    "                                                    shuffle=True,\n",
    "                                                    random_state=43)\n",
    "# pipeline\n",
    "pipeline = [('imputer', SimpleImputer(strategy='median')),\n",
    "            ('scaler', StandardScaler()),\n",
    "            ('lr', LinearRegression())]\n",
    "pipe = Pipeline(pipeline)\n",
    "\n",
    "scores = cross_validate(pipe, X_train, y_train, cv=10, return_train_score=False)\n",
    "\n",
    "# Afficher les scores sur chaque fold, la moyenne et l'écart type\n",
    "print(\"\\nScores on validation sets :\", scores['test_score'])\n",
    "print(\"\\nMean of scores on validation sets :\", np.mean(scores['test_score']))\n",
    "print(\"\\nStandard deviation of scores on validation sets :\", np.std(scores['test_score']))"
   ]
  },
  {
   "cell_type": "markdown",
   "id": "e3af1a5b-e472-482d-9f8a-a9d1eced4be3",
   "metadata": {},
   "source": [
    "# Exercise 3: GridsearchCV"
   ]
  },
  {
   "cell_type": "code",
   "execution_count": 7,
   "id": "fb239372-eac8-4972-9433-568bdbcd3e97",
   "metadata": {},
   "outputs": [
    {
     "data": {
      "text/html": [
       "<style>#sk-container-id-1 {color: black;}#sk-container-id-1 pre{padding: 0;}#sk-container-id-1 div.sk-toggleable {background-color: white;}#sk-container-id-1 label.sk-toggleable__label {cursor: pointer;display: block;width: 100%;margin-bottom: 0;padding: 0.3em;box-sizing: border-box;text-align: center;}#sk-container-id-1 label.sk-toggleable__label-arrow:before {content: \"▸\";float: left;margin-right: 0.25em;color: #696969;}#sk-container-id-1 label.sk-toggleable__label-arrow:hover:before {color: black;}#sk-container-id-1 div.sk-estimator:hover label.sk-toggleable__label-arrow:before {color: black;}#sk-container-id-1 div.sk-toggleable__content {max-height: 0;max-width: 0;overflow: hidden;text-align: left;background-color: #f0f8ff;}#sk-container-id-1 div.sk-toggleable__content pre {margin: 0.2em;color: black;border-radius: 0.25em;background-color: #f0f8ff;}#sk-container-id-1 input.sk-toggleable__control:checked~div.sk-toggleable__content {max-height: 200px;max-width: 100%;overflow: auto;}#sk-container-id-1 input.sk-toggleable__control:checked~label.sk-toggleable__label-arrow:before {content: \"▾\";}#sk-container-id-1 div.sk-estimator input.sk-toggleable__control:checked~label.sk-toggleable__label {background-color: #d4ebff;}#sk-container-id-1 div.sk-label input.sk-toggleable__control:checked~label.sk-toggleable__label {background-color: #d4ebff;}#sk-container-id-1 input.sk-hidden--visually {border: 0;clip: rect(1px 1px 1px 1px);clip: rect(1px, 1px, 1px, 1px);height: 1px;margin: -1px;overflow: hidden;padding: 0;position: absolute;width: 1px;}#sk-container-id-1 div.sk-estimator {font-family: monospace;background-color: #f0f8ff;border: 1px dotted black;border-radius: 0.25em;box-sizing: border-box;margin-bottom: 0.5em;}#sk-container-id-1 div.sk-estimator:hover {background-color: #d4ebff;}#sk-container-id-1 div.sk-parallel-item::after {content: \"\";width: 100%;border-bottom: 1px solid gray;flex-grow: 1;}#sk-container-id-1 div.sk-label:hover label.sk-toggleable__label {background-color: #d4ebff;}#sk-container-id-1 div.sk-serial::before {content: \"\";position: absolute;border-left: 1px solid gray;box-sizing: border-box;top: 0;bottom: 0;left: 50%;z-index: 0;}#sk-container-id-1 div.sk-serial {display: flex;flex-direction: column;align-items: center;background-color: white;padding-right: 0.2em;padding-left: 0.2em;position: relative;}#sk-container-id-1 div.sk-item {position: relative;z-index: 1;}#sk-container-id-1 div.sk-parallel {display: flex;align-items: stretch;justify-content: center;background-color: white;position: relative;}#sk-container-id-1 div.sk-item::before, #sk-container-id-1 div.sk-parallel-item::before {content: \"\";position: absolute;border-left: 1px solid gray;box-sizing: border-box;top: 0;bottom: 0;left: 50%;z-index: -1;}#sk-container-id-1 div.sk-parallel-item {display: flex;flex-direction: column;z-index: 1;position: relative;background-color: white;}#sk-container-id-1 div.sk-parallel-item:first-child::after {align-self: flex-end;width: 50%;}#sk-container-id-1 div.sk-parallel-item:last-child::after {align-self: flex-start;width: 50%;}#sk-container-id-1 div.sk-parallel-item:only-child::after {width: 0;}#sk-container-id-1 div.sk-dashed-wrapped {border: 1px dashed gray;margin: 0 0.4em 0.5em 0.4em;box-sizing: border-box;padding-bottom: 0.4em;background-color: white;}#sk-container-id-1 div.sk-label label {font-family: monospace;font-weight: bold;display: inline-block;line-height: 1.2em;}#sk-container-id-1 div.sk-label-container {text-align: center;}#sk-container-id-1 div.sk-container {/* jupyter's `normalize.less` sets `[hidden] { display: none; }` but bootstrap.min.css set `[hidden] { display: none !important; }` so we also need the `!important` here to be able to override the default hidden behavior on the sphinx rendered scikit-learn.org. See: https://github.com/scikit-learn/scikit-learn/issues/21755 */display: inline-block !important;position: relative;}#sk-container-id-1 div.sk-text-repr-fallback {display: none;}</style><div id=\"sk-container-id-1\" class=\"sk-top-container\"><div class=\"sk-text-repr-fallback\"><pre>GridSearchCV(cv=5, estimator=RandomForestRegressor(), n_jobs=-1,\n",
       "             param_grid={&#x27;max_depth&#x27;: [2, 7, 10], &#x27;n_estimators&#x27;: [20, 40, 60]},\n",
       "             scoring=&#x27;neg_mean_squared_error&#x27;)</pre><b>In a Jupyter environment, please rerun this cell to show the HTML representation or trust the notebook. <br />On GitHub, the HTML representation is unable to render, please try loading this page with nbviewer.org.</b></div><div class=\"sk-container\" hidden><div class=\"sk-item sk-dashed-wrapped\"><div class=\"sk-label-container\"><div class=\"sk-label sk-toggleable\"><input class=\"sk-toggleable__control sk-hidden--visually\" id=\"sk-estimator-id-1\" type=\"checkbox\" ><label for=\"sk-estimator-id-1\" class=\"sk-toggleable__label sk-toggleable__label-arrow\">GridSearchCV</label><div class=\"sk-toggleable__content\"><pre>GridSearchCV(cv=5, estimator=RandomForestRegressor(), n_jobs=-1,\n",
       "             param_grid={&#x27;max_depth&#x27;: [2, 7, 10], &#x27;n_estimators&#x27;: [20, 40, 60]},\n",
       "             scoring=&#x27;neg_mean_squared_error&#x27;)</pre></div></div></div><div class=\"sk-parallel\"><div class=\"sk-parallel-item\"><div class=\"sk-item\"><div class=\"sk-label-container\"><div class=\"sk-label sk-toggleable\"><input class=\"sk-toggleable__control sk-hidden--visually\" id=\"sk-estimator-id-2\" type=\"checkbox\" ><label for=\"sk-estimator-id-2\" class=\"sk-toggleable__label sk-toggleable__label-arrow\">estimator: RandomForestRegressor</label><div class=\"sk-toggleable__content\"><pre>RandomForestRegressor()</pre></div></div></div><div class=\"sk-serial\"><div class=\"sk-item\"><div class=\"sk-estimator sk-toggleable\"><input class=\"sk-toggleable__control sk-hidden--visually\" id=\"sk-estimator-id-3\" type=\"checkbox\" ><label for=\"sk-estimator-id-3\" class=\"sk-toggleable__label sk-toggleable__label-arrow\">RandomForestRegressor</label><div class=\"sk-toggleable__content\"><pre>RandomForestRegressor()</pre></div></div></div></div></div></div></div></div></div></div>"
      ],
      "text/plain": [
       "GridSearchCV(cv=5, estimator=RandomForestRegressor(), n_jobs=-1,\n",
       "             param_grid={'max_depth': [2, 7, 10], 'n_estimators': [20, 40, 60]},\n",
       "             scoring='neg_mean_squared_error')"
      ]
     },
     "execution_count": 7,
     "metadata": {},
     "output_type": "execute_result"
    }
   ],
   "source": [
    "#Exercise 3\n",
    "\n",
    "from sklearn.datasets import fetch_california_housing\n",
    "from sklearn.model_selection import GridSearchCV\n",
    "from sklearn.ensemble import RandomForestRegressor\n",
    "import numpy as np\n",
    "\n",
    "#1\n",
    "# data\n",
    "housing = fetch_california_housing()\n",
    "X, y = housing['data'], housing['target']\n",
    "\n",
    "\n",
    "parameters = {'n_estimators':[20, 40, 60],\n",
    "            'max_depth':[2, 7, 10]}\n",
    "\n",
    "rf = RandomForestRegressor()\n",
    "gridsearch = GridSearchCV(rf,\n",
    "                        parameters,\n",
    "                        cv = 5,\n",
    "                        n_jobs=-1,\n",
    "                        scoring='neg_mean_squared_error')\n",
    "\n",
    "gridsearch.fit(X_train, y_train)"
   ]
  },
  {
   "cell_type": "code",
   "execution_count": 9,
   "id": "8b55fa33-89be-45a6-967a-7ada650e7e51",
   "metadata": {},
   "outputs": [
    {
     "name": "stdout",
     "output_type": "stream",
     "text": [
      "-0.2907671084843436\n",
      "{'max_depth': 10, 'n_estimators': 40}\n",
      "{'mean_fit_time': array([0.59473577, 1.14236765, 1.64283695, 1.66200109, 3.39975648,\n",
      "       5.33733101, 2.43376188, 4.89586773, 6.49755025]), 'std_fit_time': array([0.05952681, 0.08721997, 0.07332778, 0.0277187 , 0.08860794,\n",
      "       0.14292617, 0.08845411, 0.10033321, 0.80883501]), 'mean_score_time': array([0.00461836, 0.00736723, 0.01083469, 0.00795479, 0.01549487,\n",
      "       0.02136774, 0.01232495, 0.0228581 , 0.02807684]), 'std_score_time': array([3.30651463e-04, 9.20711433e-05, 4.65594677e-04, 4.91309818e-04,\n",
      "       2.25946851e-03, 5.59499220e-04, 2.25121765e-03, 3.56789423e-03,\n",
      "       4.44917887e-03]), 'param_max_depth': masked_array(data=[2, 2, 2, 7, 7, 7, 10, 10, 10],\n",
      "             mask=[False, False, False, False, False, False, False, False,\n",
      "                   False],\n",
      "       fill_value='?',\n",
      "            dtype=object), 'param_n_estimators': masked_array(data=[20, 40, 60, 20, 40, 60, 20, 40, 60],\n",
      "             mask=[False, False, False, False, False, False, False, False,\n",
      "                   False],\n",
      "       fill_value='?',\n",
      "            dtype=object), 'params': [{'max_depth': 2, 'n_estimators': 20}, {'max_depth': 2, 'n_estimators': 40}, {'max_depth': 2, 'n_estimators': 60}, {'max_depth': 7, 'n_estimators': 20}, {'max_depth': 7, 'n_estimators': 40}, {'max_depth': 7, 'n_estimators': 60}, {'max_depth': 10, 'n_estimators': 20}, {'max_depth': 10, 'n_estimators': 40}, {'max_depth': 10, 'n_estimators': 60}], 'split0_test_score': array([-0.70566134, -0.70376853, -0.70290043, -0.33256325, -0.336221  ,\n",
      "       -0.33367395, -0.2660938 , -0.26042934, -0.2598725 ]), 'split1_test_score': array([-0.72783751, -0.73026938, -0.72952993, -0.37336381, -0.36883158,\n",
      "       -0.37448789, -0.29058194, -0.28972025, -0.29306506]), 'split2_test_score': array([-0.71020045, -0.70448735, -0.70782718, -0.38245285, -0.38024625,\n",
      "       -0.38326553, -0.30368235, -0.30122023, -0.30462169]), 'split3_test_score': array([-0.71183047, -0.70587739, -0.70827394, -0.38230659, -0.37338502,\n",
      "       -0.37054141, -0.31010846, -0.30326387, -0.30626134]), 'split4_test_score': array([-0.73600504, -0.73862248, -0.73924063, -0.37588796, -0.37202939,\n",
      "       -0.37778775, -0.30628735, -0.29920185, -0.30144511]), 'mean_test_score': array([-0.71830696, -0.71660503, -0.71755442, -0.36931489, -0.36614265,\n",
      "       -0.3679513 , -0.29535078, -0.29076711, -0.29305314]), 'std_test_score': array([0.01158987, 0.01482011, 0.01420698, 0.01871722, 0.01541786,\n",
      "       0.0176389 , 0.0160345 , 0.01586227, 0.01720272]), 'rank_test_score': array([9, 7, 8, 6, 4, 5, 3, 1, 2], dtype=int32)}\n"
     ]
    }
   ],
   "source": [
    "#2\n",
    "print(gridsearch.best_score_)\n",
    "print(gridsearch.best_params_)\n",
    "print(gridsearch.cv_results_)"
   ]
  },
  {
   "cell_type": "code",
   "execution_count": 10,
   "id": "09ccf06d-edb2-41d7-a882-efde10e0315f",
   "metadata": {},
   "outputs": [
    {
     "name": "stdout",
     "output_type": "stream",
     "text": [
      "-0.28259007168394673\n"
     ]
    }
   ],
   "source": [
    "#3\n",
    "print(gridsearch.score(X_test, y_test))"
   ]
  },
  {
   "cell_type": "markdown",
   "id": "114acd4a-661c-40bd-bd9a-8473ca9cca1f",
   "metadata": {
    "jp-MarkdownHeadingCollapsed": true
   },
   "source": [
    "# Exercise 4: Validation curve and Learning curve"
   ]
  },
  {
   "cell_type": "code",
   "execution_count": null,
   "id": "81f71cbb-b2c3-491c-a2b1-513a3d91645b",
   "metadata": {},
   "outputs": [],
   "source": []
  }
 ],
 "metadata": {
  "kernelspec": {
   "display_name": "Python 3 (ipykernel)",
   "language": "python",
   "name": "python3"
  },
  "language_info": {
   "codemirror_mode": {
    "name": "ipython",
    "version": 3
   },
   "file_extension": ".py",
   "mimetype": "text/x-python",
   "name": "python",
   "nbconvert_exporter": "python",
   "pygments_lexer": "ipython3",
   "version": "3.8.20"
  }
 },
 "nbformat": 4,
 "nbformat_minor": 5
}
